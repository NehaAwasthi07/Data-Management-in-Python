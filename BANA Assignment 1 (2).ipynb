{
 "cells": [
  {
   "cell_type": "markdown",
   "id": "1e6c877d",
   "metadata": {},
   "source": [
    "# Assignment 1 : Data Management"
   ]
  },
  {
   "cell_type": "markdown",
   "id": "6cfc1f0f",
   "metadata": {},
   "source": [
    "# Introduction:\n",
    "In this project, we analyze the leading causes of death in the US from 1999 to 2016 using pandas in python. In addition to investigating trends in the leading causes of death in the US over time and answering some specific questions, we also try to speculate on additional information that can be gleaned by analysing the available data.\n",
    "\n",
    "\n",
    "# Data:\n",
    "We have used two different sources of information in this project. The first dataset is the publicly available health information by The National Center for Health Statistics (NCHS) that contains the information on leading causes of death for every state in the US from 1999 to 2016 and the second dataset is the Census data of the United States containing the population data for the US split by states from 2010 to 2018.\n",
    "\n",
    "We have done a basic data cleaning process for both the datasets including dropping the columns and rows containing redundant information or the information irrelevant with respect to the questions asked. We explore the first dataset containing the leading causes of death in the US in detail and supplement the relevant information from the second dataset containing the population data, wherever necessary."
   ]
  },
  {
   "cell_type": "markdown",
   "id": "0fafab38",
   "metadata": {},
   "source": [
    "We start by importing the required libraries and the leading causes of death dataset"
   ]
  },
  {
   "cell_type": "code",
   "execution_count": 1,
   "id": "b88dea08",
   "metadata": {},
   "outputs": [],
   "source": [
    "import pandas as pd\n",
    "import numpy as np\n",
    "import matplotlib.pyplot as plt"
   ]
  },
  {
   "cell_type": "code",
   "execution_count": 2,
   "id": "b727187a",
   "metadata": {},
   "outputs": [],
   "source": [
    "myfile = \"/Users/nehaawasthi/Downloads/BANA.680.01 - Data Mgmt for Business Anlyts - 10152022 - 448 PM/NCHS_-_Leading_Causes_of_Death__United_States.csv\"\n",
    "file = open(myfile, 'r')\n",
    "df = pd.read_csv(file)"
   ]
  },
  {
   "cell_type": "markdown",
   "id": "a88a69a4",
   "metadata": {},
   "source": [
    "Let's do some basic data exploration"
   ]
  },
  {
   "cell_type": "code",
   "execution_count": 3,
   "id": "6c04693c",
   "metadata": {},
   "outputs": [
    {
     "data": {
      "text/html": [
       "<div>\n",
       "<style scoped>\n",
       "    .dataframe tbody tr th:only-of-type {\n",
       "        vertical-align: middle;\n",
       "    }\n",
       "\n",
       "    .dataframe tbody tr th {\n",
       "        vertical-align: top;\n",
       "    }\n",
       "\n",
       "    .dataframe thead th {\n",
       "        text-align: right;\n",
       "    }\n",
       "</style>\n",
       "<table border=\"1\" class=\"dataframe\">\n",
       "  <thead>\n",
       "    <tr style=\"text-align: right;\">\n",
       "      <th></th>\n",
       "      <th>Year</th>\n",
       "      <th>113 Cause Name</th>\n",
       "      <th>Cause Name</th>\n",
       "      <th>State</th>\n",
       "      <th>Deaths</th>\n",
       "      <th>Age-adjusted Death Rate</th>\n",
       "    </tr>\n",
       "  </thead>\n",
       "  <tbody>\n",
       "    <tr>\n",
       "      <th>0</th>\n",
       "      <td>2012</td>\n",
       "      <td>Nephritis, nephrotic syndrome and nephrosis (N...</td>\n",
       "      <td>Kidney disease</td>\n",
       "      <td>Vermont</td>\n",
       "      <td>21</td>\n",
       "      <td>2.6</td>\n",
       "    </tr>\n",
       "    <tr>\n",
       "      <th>1</th>\n",
       "      <td>2016</td>\n",
       "      <td>Nephritis, nephrotic syndrome and nephrosis (N...</td>\n",
       "      <td>Kidney disease</td>\n",
       "      <td>Vermont</td>\n",
       "      <td>30</td>\n",
       "      <td>3.7</td>\n",
       "    </tr>\n",
       "    <tr>\n",
       "      <th>2</th>\n",
       "      <td>2013</td>\n",
       "      <td>Nephritis, nephrotic syndrome and nephrosis (N...</td>\n",
       "      <td>Kidney disease</td>\n",
       "      <td>Vermont</td>\n",
       "      <td>30</td>\n",
       "      <td>3.8</td>\n",
       "    </tr>\n",
       "    <tr>\n",
       "      <th>3</th>\n",
       "      <td>2000</td>\n",
       "      <td>Intentional self-harm (suicide) (*U03,X60-X84,...</td>\n",
       "      <td>Suicide</td>\n",
       "      <td>District of Columbia</td>\n",
       "      <td>23</td>\n",
       "      <td>3.8</td>\n",
       "    </tr>\n",
       "    <tr>\n",
       "      <th>4</th>\n",
       "      <td>2014</td>\n",
       "      <td>Nephritis, nephrotic syndrome and nephrosis (N...</td>\n",
       "      <td>Kidney disease</td>\n",
       "      <td>Arizona</td>\n",
       "      <td>325</td>\n",
       "      <td>4.1</td>\n",
       "    </tr>\n",
       "  </tbody>\n",
       "</table>\n",
       "</div>"
      ],
      "text/plain": [
       "   Year                                     113 Cause Name      Cause Name  \\\n",
       "0  2012  Nephritis, nephrotic syndrome and nephrosis (N...  Kidney disease   \n",
       "1  2016  Nephritis, nephrotic syndrome and nephrosis (N...  Kidney disease   \n",
       "2  2013  Nephritis, nephrotic syndrome and nephrosis (N...  Kidney disease   \n",
       "3  2000  Intentional self-harm (suicide) (*U03,X60-X84,...         Suicide   \n",
       "4  2014  Nephritis, nephrotic syndrome and nephrosis (N...  Kidney disease   \n",
       "\n",
       "                  State  Deaths  Age-adjusted Death Rate  \n",
       "0               Vermont      21                      2.6  \n",
       "1               Vermont      30                      3.7  \n",
       "2               Vermont      30                      3.8  \n",
       "3  District of Columbia      23                      3.8  \n",
       "4               Arizona     325                      4.1  "
      ]
     },
     "execution_count": 3,
     "metadata": {},
     "output_type": "execute_result"
    }
   ],
   "source": [
    "# Check the first 5 rows  of the dataframe\n",
    "df.head()"
   ]
  },
  {
   "cell_type": "code",
   "execution_count": 4,
   "id": "1daaf308",
   "metadata": {},
   "outputs": [
    {
     "data": {
      "text/html": [
       "<div>\n",
       "<style scoped>\n",
       "    .dataframe tbody tr th:only-of-type {\n",
       "        vertical-align: middle;\n",
       "    }\n",
       "\n",
       "    .dataframe tbody tr th {\n",
       "        vertical-align: top;\n",
       "    }\n",
       "\n",
       "    .dataframe thead th {\n",
       "        text-align: right;\n",
       "    }\n",
       "</style>\n",
       "<table border=\"1\" class=\"dataframe\">\n",
       "  <thead>\n",
       "    <tr style=\"text-align: right;\">\n",
       "      <th></th>\n",
       "      <th>Year</th>\n",
       "      <th>113 Cause Name</th>\n",
       "      <th>Cause Name</th>\n",
       "      <th>State</th>\n",
       "      <th>Deaths</th>\n",
       "      <th>Age-adjusted Death Rate</th>\n",
       "    </tr>\n",
       "  </thead>\n",
       "  <tbody>\n",
       "    <tr>\n",
       "      <th>10291</th>\n",
       "      <td>2001</td>\n",
       "      <td>All Causes</td>\n",
       "      <td>All causes</td>\n",
       "      <td>District of Columbia</td>\n",
       "      <td>5951</td>\n",
       "      <td>1049.9</td>\n",
       "    </tr>\n",
       "    <tr>\n",
       "      <th>10292</th>\n",
       "      <td>2002</td>\n",
       "      <td>All Causes</td>\n",
       "      <td>All causes</td>\n",
       "      <td>Mississippi</td>\n",
       "      <td>28853</td>\n",
       "      <td>1051.6</td>\n",
       "    </tr>\n",
       "    <tr>\n",
       "      <th>10293</th>\n",
       "      <td>2000</td>\n",
       "      <td>All Causes</td>\n",
       "      <td>All causes</td>\n",
       "      <td>Mississippi</td>\n",
       "      <td>28654</td>\n",
       "      <td>1051.9</td>\n",
       "    </tr>\n",
       "    <tr>\n",
       "      <th>10294</th>\n",
       "      <td>2000</td>\n",
       "      <td>All Causes</td>\n",
       "      <td>All causes</td>\n",
       "      <td>District of Columbia</td>\n",
       "      <td>6001</td>\n",
       "      <td>1061.2</td>\n",
       "    </tr>\n",
       "    <tr>\n",
       "      <th>10295</th>\n",
       "      <td>1999</td>\n",
       "      <td>All Causes</td>\n",
       "      <td>All causes</td>\n",
       "      <td>District of Columbia</td>\n",
       "      <td>6076</td>\n",
       "      <td>1087.3</td>\n",
       "    </tr>\n",
       "  </tbody>\n",
       "</table>\n",
       "</div>"
      ],
      "text/plain": [
       "       Year 113 Cause Name  Cause Name                 State  Deaths  \\\n",
       "10291  2001     All Causes  All causes  District of Columbia    5951   \n",
       "10292  2002     All Causes  All causes           Mississippi   28853   \n",
       "10293  2000     All Causes  All causes           Mississippi   28654   \n",
       "10294  2000     All Causes  All causes  District of Columbia    6001   \n",
       "10295  1999     All Causes  All causes  District of Columbia    6076   \n",
       "\n",
       "       Age-adjusted Death Rate  \n",
       "10291                   1049.9  \n",
       "10292                   1051.6  \n",
       "10293                   1051.9  \n",
       "10294                   1061.2  \n",
       "10295                   1087.3  "
      ]
     },
     "execution_count": 4,
     "metadata": {},
     "output_type": "execute_result"
    }
   ],
   "source": [
    "# Check the last 5 rows of the dataframe\n",
    "df.tail()"
   ]
  },
  {
   "cell_type": "code",
   "execution_count": 5,
   "id": "af4c30b8",
   "metadata": {},
   "outputs": [
    {
     "data": {
      "text/plain": [
       "(10296, 6)"
      ]
     },
     "execution_count": 5,
     "metadata": {},
     "output_type": "execute_result"
    }
   ],
   "source": [
    "# Check the shape of the dataframe\n",
    "df.shape"
   ]
  },
  {
   "cell_type": "code",
   "execution_count": 6,
   "id": "bd05a015",
   "metadata": {},
   "outputs": [
    {
     "data": {
      "text/plain": [
       "Year                         18\n",
       "113 Cause Name               11\n",
       "Cause Name                   11\n",
       "State                        52\n",
       "Deaths                     5741\n",
       "Age-adjusted Death Rate    2419\n",
       "dtype: int64"
      ]
     },
     "execution_count": 6,
     "metadata": {},
     "output_type": "execute_result"
    }
   ],
   "source": [
    "# Check the number of unique values for each variable\n",
    "df.nunique()"
   ]
  },
  {
   "cell_type": "code",
   "execution_count": 7,
   "id": "d61e5253",
   "metadata": {},
   "outputs": [
    {
     "name": "stdout",
     "output_type": "stream",
     "text": [
      "<class 'pandas.core.frame.DataFrame'>\n",
      "RangeIndex: 10296 entries, 0 to 10295\n",
      "Data columns (total 6 columns):\n",
      " #   Column                   Non-Null Count  Dtype  \n",
      "---  ------                   --------------  -----  \n",
      " 0   Year                     10296 non-null  int64  \n",
      " 1   113 Cause Name           10296 non-null  object \n",
      " 2   Cause Name               10296 non-null  object \n",
      " 3   State                    10296 non-null  object \n",
      " 4   Deaths                   10296 non-null  int64  \n",
      " 5   Age-adjusted Death Rate  10296 non-null  float64\n",
      "dtypes: float64(1), int64(2), object(3)\n",
      "memory usage: 482.8+ KB\n"
     ]
    }
   ],
   "source": [
    "# Check the column-wise info\n",
    "df.info()"
   ]
  },
  {
   "cell_type": "code",
   "execution_count": 8,
   "id": "33a14b04",
   "metadata": {},
   "outputs": [
    {
     "data": {
      "text/plain": [
       "Year                         int64\n",
       "113 Cause Name              object\n",
       "Cause Name                  object\n",
       "State                       object\n",
       "Deaths                       int64\n",
       "Age-adjusted Death Rate    float64\n",
       "dtype: object"
      ]
     },
     "execution_count": 8,
     "metadata": {},
     "output_type": "execute_result"
    }
   ],
   "source": [
    "# check the type of data for each column\n",
    "df.dtypes"
   ]
  },
  {
   "cell_type": "code",
   "execution_count": 9,
   "id": "893d2dc2",
   "metadata": {},
   "outputs": [
    {
     "data": {
      "text/plain": [
       "Index(['Year', '113 Cause Name', 'Cause Name', 'State', 'Deaths',\n",
       "       'Age-adjusted Death Rate'],\n",
       "      dtype='object')"
      ]
     },
     "execution_count": 9,
     "metadata": {},
     "output_type": "execute_result"
    }
   ],
   "source": [
    "# print out the names of the columns\n",
    "df.columns"
   ]
  },
  {
   "cell_type": "markdown",
   "id": "5975bdb6",
   "metadata": {},
   "source": [
    "Now that we have basic information about our dataframe, let's start manipulating it to answer the questions"
   ]
  },
  {
   "cell_type": "code",
   "execution_count": 10,
   "id": "e6bf92dd",
   "metadata": {},
   "outputs": [
    {
     "data": {
      "text/html": [
       "<div>\n",
       "<style scoped>\n",
       "    .dataframe tbody tr th:only-of-type {\n",
       "        vertical-align: middle;\n",
       "    }\n",
       "\n",
       "    .dataframe tbody tr th {\n",
       "        vertical-align: top;\n",
       "    }\n",
       "\n",
       "    .dataframe thead th {\n",
       "        text-align: right;\n",
       "    }\n",
       "</style>\n",
       "<table border=\"1\" class=\"dataframe\">\n",
       "  <thead>\n",
       "    <tr style=\"text-align: right;\">\n",
       "      <th></th>\n",
       "      <th>Year</th>\n",
       "      <th>113 Cause Name</th>\n",
       "      <th>Cause Name</th>\n",
       "      <th>State</th>\n",
       "      <th>Deaths</th>\n",
       "      <th>Age-adjusted Death Rate</th>\n",
       "    </tr>\n",
       "  </thead>\n",
       "  <tbody>\n",
       "    <tr>\n",
       "      <th>0</th>\n",
       "      <td>2012</td>\n",
       "      <td>Nephritis, nephrotic syndrome and nephrosis (N...</td>\n",
       "      <td>Kidney disease</td>\n",
       "      <td>Vermont</td>\n",
       "      <td>21</td>\n",
       "      <td>2.6000</td>\n",
       "    </tr>\n",
       "    <tr>\n",
       "      <th>1</th>\n",
       "      <td>2016</td>\n",
       "      <td>Nephritis, nephrotic syndrome and nephrosis (N...</td>\n",
       "      <td>Kidney disease</td>\n",
       "      <td>Vermont</td>\n",
       "      <td>30</td>\n",
       "      <td>3.7000</td>\n",
       "    </tr>\n",
       "    <tr>\n",
       "      <th>2</th>\n",
       "      <td>2013</td>\n",
       "      <td>Nephritis, nephrotic syndrome and nephrosis (N...</td>\n",
       "      <td>Kidney disease</td>\n",
       "      <td>Vermont</td>\n",
       "      <td>30</td>\n",
       "      <td>3.8000</td>\n",
       "    </tr>\n",
       "    <tr>\n",
       "      <th>3</th>\n",
       "      <td>2000</td>\n",
       "      <td>Intentional self-harm (suicide) (*U03,X60-X84,...</td>\n",
       "      <td>Suicide</td>\n",
       "      <td>District of Columbia</td>\n",
       "      <td>23</td>\n",
       "      <td>3.8000</td>\n",
       "    </tr>\n",
       "    <tr>\n",
       "      <th>4</th>\n",
       "      <td>2014</td>\n",
       "      <td>Nephritis, nephrotic syndrome and nephrosis (N...</td>\n",
       "      <td>Kidney disease</td>\n",
       "      <td>Arizona</td>\n",
       "      <td>325</td>\n",
       "      <td>4.1000</td>\n",
       "    </tr>\n",
       "  </tbody>\n",
       "</table>\n",
       "</div>"
      ],
      "text/plain": [
       "   Year                                     113 Cause Name      Cause Name  \\\n",
       "0  2012  Nephritis, nephrotic syndrome and nephrosis (N...  Kidney disease   \n",
       "1  2016  Nephritis, nephrotic syndrome and nephrosis (N...  Kidney disease   \n",
       "2  2013  Nephritis, nephrotic syndrome and nephrosis (N...  Kidney disease   \n",
       "3  2000  Intentional self-harm (suicide) (*U03,X60-X84,...         Suicide   \n",
       "4  2014  Nephritis, nephrotic syndrome and nephrosis (N...  Kidney disease   \n",
       "\n",
       "                  State  Deaths  Age-adjusted Death Rate  \n",
       "0               Vermont      21                   2.6000  \n",
       "1               Vermont      30                   3.7000  \n",
       "2               Vermont      30                   3.8000  \n",
       "3  District of Columbia      23                   3.8000  \n",
       "4               Arizona     325                   4.1000  "
      ]
     },
     "execution_count": 10,
     "metadata": {},
     "output_type": "execute_result"
    }
   ],
   "source": [
    "# We start by making a copy of the dataframe which we can manipulate\n",
    "df1 = df.copy()\n",
    "\n",
    "# Change the format to show the numerical values upto four decimal points\n",
    "pd.options.display.float_format = '{:.4f}'.format\n",
    "df1.head()"
   ]
  },
  {
   "cell_type": "markdown",
   "id": "9d421f09",
   "metadata": {},
   "source": [
    "It looks like \"113 Cause Name\" & \"Cause Name\" carry the same information so let's do a check"
   ]
  },
  {
   "cell_type": "code",
   "execution_count": 11,
   "id": "91c16e64",
   "metadata": {},
   "outputs": [
    {
     "data": {
      "text/plain": [
       "Cause Name\n",
       "All causes                                                      [All Causes]\n",
       "Alzheimer's disease                              [Alzheimer's disease (G30)]\n",
       "CLRD                          [Chronic lower respiratory diseases (J40-J47)]\n",
       "Cancer                                       [Malignant neoplasms (C00-C97)]\n",
       "Diabetes                                       [Diabetes mellitus (E10-E14)]\n",
       "Heart disease                  [Diseases of heart (I00-I09,I11,I13,I20-I51)]\n",
       "Influenza and pneumonia                  [Influenza and pneumonia (J09-J18)]\n",
       "Kidney disease             [Nephritis, nephrotic syndrome and nephrosis (...\n",
       "Stroke                                  [Cerebrovascular diseases (I60-I69)]\n",
       "Suicide                    [Intentional self-harm (suicide) (*U03,X60-X84...\n",
       "Unintentional injuries     [Accidents (unintentional injuries) (V01-X59,Y...\n",
       "Name: 113 Cause Name, dtype: object"
      ]
     },
     "execution_count": 11,
     "metadata": {},
     "output_type": "execute_result"
    }
   ],
   "source": [
    "# Check the unique values for \"113 Cause Name\" against \"Cause Name\"\n",
    "dfu = df1.groupby('Cause Name')['113 Cause Name'].unique()\n",
    "dfu"
   ]
  },
  {
   "cell_type": "markdown",
   "id": "3fc232a0",
   "metadata": {},
   "source": [
    "As suspected, both columns carry the same information so let's simplify our dataframe further by dropping redundant and irrelevant columns"
   ]
  },
  {
   "cell_type": "code",
   "execution_count": 12,
   "id": "0bc2969c",
   "metadata": {},
   "outputs": [
    {
     "data": {
      "text/html": [
       "<div>\n",
       "<style scoped>\n",
       "    .dataframe tbody tr th:only-of-type {\n",
       "        vertical-align: middle;\n",
       "    }\n",
       "\n",
       "    .dataframe tbody tr th {\n",
       "        vertical-align: top;\n",
       "    }\n",
       "\n",
       "    .dataframe thead th {\n",
       "        text-align: right;\n",
       "    }\n",
       "</style>\n",
       "<table border=\"1\" class=\"dataframe\">\n",
       "  <thead>\n",
       "    <tr style=\"text-align: right;\">\n",
       "      <th></th>\n",
       "      <th>Year</th>\n",
       "      <th>Cause Name</th>\n",
       "      <th>State</th>\n",
       "      <th>Deaths</th>\n",
       "    </tr>\n",
       "  </thead>\n",
       "  <tbody>\n",
       "    <tr>\n",
       "      <th>0</th>\n",
       "      <td>2012</td>\n",
       "      <td>Kidney disease</td>\n",
       "      <td>Vermont</td>\n",
       "      <td>21</td>\n",
       "    </tr>\n",
       "    <tr>\n",
       "      <th>1</th>\n",
       "      <td>2016</td>\n",
       "      <td>Kidney disease</td>\n",
       "      <td>Vermont</td>\n",
       "      <td>30</td>\n",
       "    </tr>\n",
       "    <tr>\n",
       "      <th>2</th>\n",
       "      <td>2013</td>\n",
       "      <td>Kidney disease</td>\n",
       "      <td>Vermont</td>\n",
       "      <td>30</td>\n",
       "    </tr>\n",
       "    <tr>\n",
       "      <th>3</th>\n",
       "      <td>2000</td>\n",
       "      <td>Suicide</td>\n",
       "      <td>District of Columbia</td>\n",
       "      <td>23</td>\n",
       "    </tr>\n",
       "    <tr>\n",
       "      <th>4</th>\n",
       "      <td>2014</td>\n",
       "      <td>Kidney disease</td>\n",
       "      <td>Arizona</td>\n",
       "      <td>325</td>\n",
       "    </tr>\n",
       "  </tbody>\n",
       "</table>\n",
       "</div>"
      ],
      "text/plain": [
       "   Year      Cause Name                 State  Deaths\n",
       "0  2012  Kidney disease               Vermont      21\n",
       "1  2016  Kidney disease               Vermont      30\n",
       "2  2013  Kidney disease               Vermont      30\n",
       "3  2000         Suicide  District of Columbia      23\n",
       "4  2014  Kidney disease               Arizona     325"
      ]
     },
     "execution_count": 12,
     "metadata": {},
     "output_type": "execute_result"
    }
   ],
   "source": [
    "# Drop columns \"113 Cause Name\" & \"Age -adjusted Death Rate\"\n",
    "df1.drop(['113 Cause Name', 'Age-adjusted Death Rate'], axis = 1, inplace = True)\n",
    "df1.head()"
   ]
  },
  {
   "cell_type": "code",
   "execution_count": 13,
   "id": "8b1d33de",
   "metadata": {},
   "outputs": [
    {
     "data": {
      "text/html": [
       "<div>\n",
       "<style scoped>\n",
       "    .dataframe tbody tr th:only-of-type {\n",
       "        vertical-align: middle;\n",
       "    }\n",
       "\n",
       "    .dataframe tbody tr th {\n",
       "        vertical-align: top;\n",
       "    }\n",
       "\n",
       "    .dataframe thead th {\n",
       "        text-align: right;\n",
       "    }\n",
       "</style>\n",
       "<table border=\"1\" class=\"dataframe\">\n",
       "  <thead>\n",
       "    <tr style=\"text-align: right;\">\n",
       "      <th></th>\n",
       "      <th>Deaths</th>\n",
       "    </tr>\n",
       "  </thead>\n",
       "  <tbody>\n",
       "    <tr>\n",
       "      <th>count</th>\n",
       "      <td>10296.0000</td>\n",
       "    </tr>\n",
       "    <tr>\n",
       "      <th>mean</th>\n",
       "      <td>15367.9328</td>\n",
       "    </tr>\n",
       "    <tr>\n",
       "      <th>std</th>\n",
       "      <td>112145.6780</td>\n",
       "    </tr>\n",
       "    <tr>\n",
       "      <th>min</th>\n",
       "      <td>21.0000</td>\n",
       "    </tr>\n",
       "    <tr>\n",
       "      <th>25%</th>\n",
       "      <td>606.0000</td>\n",
       "    </tr>\n",
       "    <tr>\n",
       "      <th>50%</th>\n",
       "      <td>1704.5000</td>\n",
       "    </tr>\n",
       "    <tr>\n",
       "      <th>75%</th>\n",
       "      <td>5678.0000</td>\n",
       "    </tr>\n",
       "    <tr>\n",
       "      <th>max</th>\n",
       "      <td>2744248.0000</td>\n",
       "    </tr>\n",
       "  </tbody>\n",
       "</table>\n",
       "</div>"
      ],
      "text/plain": [
       "            Deaths\n",
       "count   10296.0000\n",
       "mean    15367.9328\n",
       "std    112145.6780\n",
       "min        21.0000\n",
       "25%       606.0000\n",
       "50%      1704.5000\n",
       "75%      5678.0000\n",
       "max   2744248.0000"
      ]
     },
     "execution_count": 13,
     "metadata": {},
     "output_type": "execute_result"
    }
   ],
   "source": [
    "# Let's get summary statistics for our numerical variable\n",
    "df2 = df1[['Deaths']].dropna(axis=0)\n",
    "df2.describe()"
   ]
  },
  {
   "cell_type": "markdown",
   "id": "1f51202a",
   "metadata": {},
   "source": [
    "Let's see our dataframe using multi-indexed variables, first grouped by the year, then by cause name and finally by the state name to see the total death count."
   ]
  },
  {
   "cell_type": "code",
   "execution_count": 14,
   "id": "5fe3f0f8",
   "metadata": {},
   "outputs": [
    {
     "data": {
      "text/html": [
       "<div>\n",
       "<style scoped>\n",
       "    .dataframe tbody tr th:only-of-type {\n",
       "        vertical-align: middle;\n",
       "    }\n",
       "\n",
       "    .dataframe tbody tr th {\n",
       "        vertical-align: top;\n",
       "    }\n",
       "\n",
       "    .dataframe thead th {\n",
       "        text-align: right;\n",
       "    }\n",
       "</style>\n",
       "<table border=\"1\" class=\"dataframe\">\n",
       "  <thead>\n",
       "    <tr style=\"text-align: right;\">\n",
       "      <th></th>\n",
       "      <th></th>\n",
       "      <th></th>\n",
       "      <th>Deaths</th>\n",
       "    </tr>\n",
       "    <tr>\n",
       "      <th>Year</th>\n",
       "      <th>Cause Name</th>\n",
       "      <th>State</th>\n",
       "      <th></th>\n",
       "    </tr>\n",
       "  </thead>\n",
       "  <tbody>\n",
       "    <tr>\n",
       "      <th rowspan=\"5\" valign=\"top\">1999</th>\n",
       "      <th rowspan=\"5\" valign=\"top\">All causes</th>\n",
       "      <th>Alabama</th>\n",
       "      <td>44806</td>\n",
       "    </tr>\n",
       "    <tr>\n",
       "      <th>Alaska</th>\n",
       "      <td>2708</td>\n",
       "    </tr>\n",
       "    <tr>\n",
       "      <th>Arizona</th>\n",
       "      <td>40050</td>\n",
       "    </tr>\n",
       "    <tr>\n",
       "      <th>Arkansas</th>\n",
       "      <td>27925</td>\n",
       "    </tr>\n",
       "    <tr>\n",
       "      <th>California</th>\n",
       "      <td>229380</td>\n",
       "    </tr>\n",
       "  </tbody>\n",
       "</table>\n",
       "</div>"
      ],
      "text/plain": [
       "                            Deaths\n",
       "Year Cause Name State             \n",
       "1999 All causes Alabama      44806\n",
       "                Alaska        2708\n",
       "                Arizona      40050\n",
       "                Arkansas     27925\n",
       "                California  229380"
      ]
     },
     "execution_count": 14,
     "metadata": {},
     "output_type": "execute_result"
    }
   ],
   "source": [
    "df3 = df1.groupby(['Year', 'Cause Name', 'State']).agg(Deaths = ('Deaths', 'sum'))\n",
    "df3.head()"
   ]
  },
  {
   "cell_type": "markdown",
   "id": "43bdf51f",
   "metadata": {},
   "source": [
    "We see that the death for \"all causes\" Slightly exceeds the sum of deaths for the 10 leading causes mentioned here. So, they include the counts of all the causes mentioned here and some others that are not deemed important for this dataset. "
   ]
  },
  {
   "cell_type": "code",
   "execution_count": 15,
   "id": "64b7892a",
   "metadata": {},
   "outputs": [
    {
     "data": {
      "text/html": [
       "<div>\n",
       "<style scoped>\n",
       "    .dataframe tbody tr th:only-of-type {\n",
       "        vertical-align: middle;\n",
       "    }\n",
       "\n",
       "    .dataframe tbody tr th {\n",
       "        vertical-align: top;\n",
       "    }\n",
       "\n",
       "    .dataframe thead th {\n",
       "        text-align: right;\n",
       "    }\n",
       "</style>\n",
       "<table border=\"1\" class=\"dataframe\">\n",
       "  <thead>\n",
       "    <tr style=\"text-align: right;\">\n",
       "      <th></th>\n",
       "      <th>Year</th>\n",
       "      <th>Cause Name</th>\n",
       "      <th>State</th>\n",
       "      <th>Deaths</th>\n",
       "    </tr>\n",
       "  </thead>\n",
       "  <tbody>\n",
       "    <tr>\n",
       "      <th>0</th>\n",
       "      <td>2014</td>\n",
       "      <td>All causes</td>\n",
       "      <td>United States</td>\n",
       "      <td>2626418</td>\n",
       "    </tr>\n",
       "    <tr>\n",
       "      <th>1</th>\n",
       "      <td>2016</td>\n",
       "      <td>All causes</td>\n",
       "      <td>United States</td>\n",
       "      <td>2744248</td>\n",
       "    </tr>\n",
       "    <tr>\n",
       "      <th>2</th>\n",
       "      <td>2013</td>\n",
       "      <td>All causes</td>\n",
       "      <td>United States</td>\n",
       "      <td>2596993</td>\n",
       "    </tr>\n",
       "    <tr>\n",
       "      <th>3</th>\n",
       "      <td>2012</td>\n",
       "      <td>All causes</td>\n",
       "      <td>United States</td>\n",
       "      <td>2543279</td>\n",
       "    </tr>\n",
       "    <tr>\n",
       "      <th>4</th>\n",
       "      <td>2015</td>\n",
       "      <td>All causes</td>\n",
       "      <td>United States</td>\n",
       "      <td>2712630</td>\n",
       "    </tr>\n",
       "  </tbody>\n",
       "</table>\n",
       "</div>"
      ],
      "text/plain": [
       "   Year  Cause Name          State   Deaths\n",
       "0  2014  All causes  United States  2626418\n",
       "1  2016  All causes  United States  2744248\n",
       "2  2013  All causes  United States  2596993\n",
       "3  2012  All causes  United States  2543279\n",
       "4  2015  All causes  United States  2712630"
      ]
     },
     "execution_count": 15,
     "metadata": {},
     "output_type": "execute_result"
    }
   ],
   "source": [
    "# For the total death count for the United States per year, let's select the rows for only 'All causes' in the United States\n",
    "df_AC = df1.loc[df1['Cause Name'] == \"All causes\"]\n",
    "df_US_AC = df_AC.loc[df_AC['State'] == \"United States\"]\n",
    "df_US_AC = df_US_AC.reset_index(drop = True)\n",
    "df_US_AC.head()"
   ]
  },
  {
   "cell_type": "markdown",
   "id": "703ae7d6",
   "metadata": {},
   "source": [
    "Let's import the second dataset containing the population data"
   ]
  },
  {
   "cell_type": "code",
   "execution_count": 16,
   "id": "f66dd570",
   "metadata": {
    "scrolled": true
   },
   "outputs": [
    {
     "data": {
      "text/html": [
       "<div>\n",
       "<style scoped>\n",
       "    .dataframe tbody tr th:only-of-type {\n",
       "        vertical-align: middle;\n",
       "    }\n",
       "\n",
       "    .dataframe tbody tr th {\n",
       "        vertical-align: top;\n",
       "    }\n",
       "\n",
       "    .dataframe thead th {\n",
       "        text-align: right;\n",
       "    }\n",
       "</style>\n",
       "<table border=\"1\" class=\"dataframe\">\n",
       "  <thead>\n",
       "    <tr style=\"text-align: right;\">\n",
       "      <th></th>\n",
       "      <th>Unnamed: 0</th>\n",
       "      <th>2010</th>\n",
       "      <th>2011</th>\n",
       "      <th>2012</th>\n",
       "      <th>2013</th>\n",
       "      <th>2014</th>\n",
       "      <th>2015</th>\n",
       "      <th>2016</th>\n",
       "      <th>2017</th>\n",
       "      <th>2018</th>\n",
       "    </tr>\n",
       "  </thead>\n",
       "  <tbody>\n",
       "    <tr>\n",
       "      <th>52</th>\n",
       "      <td>.Washington</td>\n",
       "      <td>6742902.0000</td>\n",
       "      <td>6821655.0000</td>\n",
       "      <td>6892876.0000</td>\n",
       "      <td>6962906.0000</td>\n",
       "      <td>7052439.0000</td>\n",
       "      <td>7163543.0000</td>\n",
       "      <td>7294680.0000</td>\n",
       "      <td>7425432.0000</td>\n",
       "      <td>7535591.0000</td>\n",
       "    </tr>\n",
       "    <tr>\n",
       "      <th>53</th>\n",
       "      <td>.West Virginia</td>\n",
       "      <td>1854214.0000</td>\n",
       "      <td>1856074.0000</td>\n",
       "      <td>1856764.0000</td>\n",
       "      <td>1853873.0000</td>\n",
       "      <td>1849467.0000</td>\n",
       "      <td>1841996.0000</td>\n",
       "      <td>1830929.0000</td>\n",
       "      <td>1817048.0000</td>\n",
       "      <td>1805832.0000</td>\n",
       "    </tr>\n",
       "    <tr>\n",
       "      <th>54</th>\n",
       "      <td>.Wisconsin</td>\n",
       "      <td>5690479.0000</td>\n",
       "      <td>5704755.0000</td>\n",
       "      <td>5719855.0000</td>\n",
       "      <td>5736952.0000</td>\n",
       "      <td>5751974.0000</td>\n",
       "      <td>5761406.0000</td>\n",
       "      <td>5772958.0000</td>\n",
       "      <td>5792051.0000</td>\n",
       "      <td>5813568.0000</td>\n",
       "    </tr>\n",
       "    <tr>\n",
       "      <th>55</th>\n",
       "      <td>.Wyoming</td>\n",
       "      <td>564483.0000</td>\n",
       "      <td>567224.0000</td>\n",
       "      <td>576270.0000</td>\n",
       "      <td>582123.0000</td>\n",
       "      <td>582548.0000</td>\n",
       "      <td>585668.0000</td>\n",
       "      <td>584290.0000</td>\n",
       "      <td>578934.0000</td>\n",
       "      <td>577737.0000</td>\n",
       "    </tr>\n",
       "    <tr>\n",
       "      <th>57</th>\n",
       "      <td>Puerto Rico</td>\n",
       "      <td>3721525.0000</td>\n",
       "      <td>3678732.0000</td>\n",
       "      <td>3634488.0000</td>\n",
       "      <td>3593077.0000</td>\n",
       "      <td>3534874.0000</td>\n",
       "      <td>3473166.0000</td>\n",
       "      <td>3406495.0000</td>\n",
       "      <td>3325001.0000</td>\n",
       "      <td>3195153.0000</td>\n",
       "    </tr>\n",
       "  </tbody>\n",
       "</table>\n",
       "</div>"
      ],
      "text/plain": [
       "        Unnamed: 0         2010         2011         2012         2013  \\\n",
       "52     .Washington 6742902.0000 6821655.0000 6892876.0000 6962906.0000   \n",
       "53  .West Virginia 1854214.0000 1856074.0000 1856764.0000 1853873.0000   \n",
       "54      .Wisconsin 5690479.0000 5704755.0000 5719855.0000 5736952.0000   \n",
       "55        .Wyoming  564483.0000  567224.0000  576270.0000  582123.0000   \n",
       "57     Puerto Rico 3721525.0000 3678732.0000 3634488.0000 3593077.0000   \n",
       "\n",
       "           2014         2015         2016         2017         2018  \n",
       "52 7052439.0000 7163543.0000 7294680.0000 7425432.0000 7535591.0000  \n",
       "53 1849467.0000 1841996.0000 1830929.0000 1817048.0000 1805832.0000  \n",
       "54 5751974.0000 5761406.0000 5772958.0000 5792051.0000 5813568.0000  \n",
       "55  582548.0000  585668.0000  584290.0000  578934.0000  577737.0000  \n",
       "57 3534874.0000 3473166.0000 3406495.0000 3325001.0000 3195153.0000  "
      ]
     },
     "execution_count": 16,
     "metadata": {},
     "output_type": "execute_result"
    }
   ],
   "source": [
    "# Import the excel dataset while dropping the top multi-indexed rows and columns for the census estimates and data for april 2010\n",
    "myfile1 = \"/Users/nehaawasthi/Downloads/BANA.680.01 - Data Mgmt for Business Anlyts - 10152022 - 448 PM/nst-est2018-01.xlsx\"\n",
    "df5 = pd.read_excel(myfile1,\n",
    "                   skiprows = [0,1,2],\n",
    "                   usecols=[0,3,4,5,6,7,8,9,10,11])\n",
    "\n",
    "# Drop the rows containing no or irrelevant information about the population in different regions\n",
    "df5 = df5[df5.isnull().sum(axis=1) < 2]\n",
    "df5.tail()"
   ]
  },
  {
   "cell_type": "code",
   "execution_count": 17,
   "id": "25928cd7",
   "metadata": {},
   "outputs": [
    {
     "data": {
      "text/html": [
       "<div>\n",
       "<style scoped>\n",
       "    .dataframe tbody tr th:only-of-type {\n",
       "        vertical-align: middle;\n",
       "    }\n",
       "\n",
       "    .dataframe tbody tr th {\n",
       "        vertical-align: top;\n",
       "    }\n",
       "\n",
       "    .dataframe thead th {\n",
       "        text-align: right;\n",
       "    }\n",
       "</style>\n",
       "<table border=\"1\" class=\"dataframe\">\n",
       "  <thead>\n",
       "    <tr style=\"text-align: right;\">\n",
       "      <th></th>\n",
       "      <th>State</th>\n",
       "      <th>2010</th>\n",
       "      <th>2011</th>\n",
       "      <th>2012</th>\n",
       "      <th>2013</th>\n",
       "      <th>2014</th>\n",
       "      <th>2015</th>\n",
       "      <th>2016</th>\n",
       "      <th>2017</th>\n",
       "      <th>2018</th>\n",
       "    </tr>\n",
       "  </thead>\n",
       "  <tbody>\n",
       "    <tr>\n",
       "      <th>0</th>\n",
       "      <td>United States</td>\n",
       "      <td>309326085.0000</td>\n",
       "      <td>311580009.0000</td>\n",
       "      <td>313874218.0000</td>\n",
       "      <td>316057727.0000</td>\n",
       "      <td>318386421.0000</td>\n",
       "      <td>320742673.0000</td>\n",
       "      <td>323071342.0000</td>\n",
       "      <td>325147121.0000</td>\n",
       "      <td>327167434.0000</td>\n",
       "    </tr>\n",
       "    <tr>\n",
       "      <th>1</th>\n",
       "      <td>Northeast</td>\n",
       "      <td>55380645.0000</td>\n",
       "      <td>55600532.0000</td>\n",
       "      <td>55776729.0000</td>\n",
       "      <td>55907823.0000</td>\n",
       "      <td>56015864.0000</td>\n",
       "      <td>56047587.0000</td>\n",
       "      <td>56058789.0000</td>\n",
       "      <td>56072676.0000</td>\n",
       "      <td>56111079.0000</td>\n",
       "    </tr>\n",
       "    <tr>\n",
       "      <th>2</th>\n",
       "      <td>Midwest</td>\n",
       "      <td>66974749.0000</td>\n",
       "      <td>67152631.0000</td>\n",
       "      <td>67336937.0000</td>\n",
       "      <td>67564135.0000</td>\n",
       "      <td>67752238.0000</td>\n",
       "      <td>67869139.0000</td>\n",
       "      <td>67996917.0000</td>\n",
       "      <td>68156035.0000</td>\n",
       "      <td>68308744.0000</td>\n",
       "    </tr>\n",
       "    <tr>\n",
       "      <th>3</th>\n",
       "      <td>South</td>\n",
       "      <td>114867066.0000</td>\n",
       "      <td>116039399.0000</td>\n",
       "      <td>117271075.0000</td>\n",
       "      <td>118393244.0000</td>\n",
       "      <td>119657737.0000</td>\n",
       "      <td>121037542.0000</td>\n",
       "      <td>122401186.0000</td>\n",
       "      <td>123598424.0000</td>\n",
       "      <td>124753948.0000</td>\n",
       "    </tr>\n",
       "    <tr>\n",
       "      <th>4</th>\n",
       "      <td>West</td>\n",
       "      <td>72103625.0000</td>\n",
       "      <td>72787447.0000</td>\n",
       "      <td>73489477.0000</td>\n",
       "      <td>74192525.0000</td>\n",
       "      <td>74960582.0000</td>\n",
       "      <td>75788405.0000</td>\n",
       "      <td>76614450.0000</td>\n",
       "      <td>77319986.0000</td>\n",
       "      <td>77993663.0000</td>\n",
       "    </tr>\n",
       "  </tbody>\n",
       "</table>\n",
       "</div>"
      ],
      "text/plain": [
       "           State           2010           2011           2012           2013  \\\n",
       "0  United States 309326085.0000 311580009.0000 313874218.0000 316057727.0000   \n",
       "1      Northeast  55380645.0000  55600532.0000  55776729.0000  55907823.0000   \n",
       "2        Midwest  66974749.0000  67152631.0000  67336937.0000  67564135.0000   \n",
       "3          South 114867066.0000 116039399.0000 117271075.0000 118393244.0000   \n",
       "4           West  72103625.0000  72787447.0000  73489477.0000  74192525.0000   \n",
       "\n",
       "            2014           2015           2016           2017           2018  \n",
       "0 318386421.0000 320742673.0000 323071342.0000 325147121.0000 327167434.0000  \n",
       "1  56015864.0000  56047587.0000  56058789.0000  56072676.0000  56111079.0000  \n",
       "2  67752238.0000  67869139.0000  67996917.0000  68156035.0000  68308744.0000  \n",
       "3 119657737.0000 121037542.0000 122401186.0000 123598424.0000 124753948.0000  \n",
       "4  74960582.0000  75788405.0000  76614450.0000  77319986.0000  77993663.0000  "
      ]
     },
     "execution_count": 17,
     "metadata": {},
     "output_type": "execute_result"
    }
   ],
   "source": [
    "# Rename the columns appropriately \n",
    "df5.columns = ['State', 2010, 2011, 2012, 2013, 2014, 2015, 2016, 2017, 2018]\n",
    "df5.head()"
   ]
  },
  {
   "cell_type": "code",
   "execution_count": 18,
   "id": "0b9e15dd",
   "metadata": {},
   "outputs": [
    {
     "data": {
      "text/html": [
       "<div>\n",
       "<style scoped>\n",
       "    .dataframe tbody tr th:only-of-type {\n",
       "        vertical-align: middle;\n",
       "    }\n",
       "\n",
       "    .dataframe tbody tr th {\n",
       "        vertical-align: top;\n",
       "    }\n",
       "\n",
       "    .dataframe thead th {\n",
       "        text-align: right;\n",
       "    }\n",
       "</style>\n",
       "<table border=\"1\" class=\"dataframe\">\n",
       "  <thead>\n",
       "    <tr style=\"text-align: right;\">\n",
       "      <th></th>\n",
       "      <th>State</th>\n",
       "      <th>Year</th>\n",
       "      <th>Population</th>\n",
       "    </tr>\n",
       "  </thead>\n",
       "  <tbody>\n",
       "    <tr>\n",
       "      <th>0</th>\n",
       "      <td>United States</td>\n",
       "      <td>2010</td>\n",
       "      <td>309326085.0000</td>\n",
       "    </tr>\n",
       "    <tr>\n",
       "      <th>1</th>\n",
       "      <td>Northeast</td>\n",
       "      <td>2010</td>\n",
       "      <td>55380645.0000</td>\n",
       "    </tr>\n",
       "    <tr>\n",
       "      <th>2</th>\n",
       "      <td>Midwest</td>\n",
       "      <td>2010</td>\n",
       "      <td>66974749.0000</td>\n",
       "    </tr>\n",
       "    <tr>\n",
       "      <th>3</th>\n",
       "      <td>South</td>\n",
       "      <td>2010</td>\n",
       "      <td>114867066.0000</td>\n",
       "    </tr>\n",
       "    <tr>\n",
       "      <th>4</th>\n",
       "      <td>West</td>\n",
       "      <td>2010</td>\n",
       "      <td>72103625.0000</td>\n",
       "    </tr>\n",
       "  </tbody>\n",
       "</table>\n",
       "</div>"
      ],
      "text/plain": [
       "           State  Year     Population\n",
       "0  United States  2010 309326085.0000\n",
       "1      Northeast  2010  55380645.0000\n",
       "2        Midwest  2010  66974749.0000\n",
       "3          South  2010 114867066.0000\n",
       "4           West  2010  72103625.0000"
      ]
     },
     "execution_count": 18,
     "metadata": {},
     "output_type": "execute_result"
    }
   ],
   "source": [
    "# Convert Years to a column for merging the dataframes later and plot the likelihood of death over time\n",
    "df6 = pd.melt(df5, id_vars=[\"State\"],var_name=\"Year\", value_name= \"Population\", value_vars=[2010, 2010, 2011, 2012, 2013, 2014, 2015, 2016, 2017, 2018])\n",
    "df6.head()"
   ]
  },
  {
   "cell_type": "code",
   "execution_count": 19,
   "id": "fcd2504d",
   "metadata": {},
   "outputs": [
    {
     "data": {
      "text/html": [
       "<div>\n",
       "<style scoped>\n",
       "    .dataframe tbody tr th:only-of-type {\n",
       "        vertical-align: middle;\n",
       "    }\n",
       "\n",
       "    .dataframe tbody tr th {\n",
       "        vertical-align: top;\n",
       "    }\n",
       "\n",
       "    .dataframe thead th {\n",
       "        text-align: right;\n",
       "    }\n",
       "</style>\n",
       "<table border=\"1\" class=\"dataframe\">\n",
       "  <thead>\n",
       "    <tr style=\"text-align: right;\">\n",
       "      <th></th>\n",
       "      <th></th>\n",
       "      <th>Population</th>\n",
       "    </tr>\n",
       "    <tr>\n",
       "      <th>Year</th>\n",
       "      <th>State</th>\n",
       "      <th></th>\n",
       "    </tr>\n",
       "  </thead>\n",
       "  <tbody>\n",
       "    <tr>\n",
       "      <th rowspan=\"5\" valign=\"top\">2010</th>\n",
       "      <th>.Alabama</th>\n",
       "      <td>4785448.0000</td>\n",
       "    </tr>\n",
       "    <tr>\n",
       "      <th>.Alaska</th>\n",
       "      <td>713906.0000</td>\n",
       "    </tr>\n",
       "    <tr>\n",
       "      <th>.Arizona</th>\n",
       "      <td>6407774.0000</td>\n",
       "    </tr>\n",
       "    <tr>\n",
       "      <th>.Arkansas</th>\n",
       "      <td>2921978.0000</td>\n",
       "    </tr>\n",
       "    <tr>\n",
       "      <th>.California</th>\n",
       "      <td>37320903.0000</td>\n",
       "    </tr>\n",
       "  </tbody>\n",
       "</table>\n",
       "</div>"
      ],
      "text/plain": [
       "                    Population\n",
       "Year State                    \n",
       "2010 .Alabama     4785448.0000\n",
       "     .Alaska       713906.0000\n",
       "     .Arizona     6407774.0000\n",
       "     .Arkansas    2921978.0000\n",
       "     .California 37320903.0000"
      ]
     },
     "execution_count": 19,
     "metadata": {},
     "output_type": "execute_result"
    }
   ],
   "source": [
    "# Group the dataframe by years and states to see total population per state per year\n",
    "df7 = df6.groupby(['Year', 'State']).agg(Population = ('Population', 'sum'))\n",
    "df7.head()"
   ]
  },
  {
   "cell_type": "code",
   "execution_count": 20,
   "id": "056894d0",
   "metadata": {},
   "outputs": [
    {
     "data": {
      "text/html": [
       "<div>\n",
       "<style scoped>\n",
       "    .dataframe tbody tr th:only-of-type {\n",
       "        vertical-align: middle;\n",
       "    }\n",
       "\n",
       "    .dataframe tbody tr th {\n",
       "        vertical-align: top;\n",
       "    }\n",
       "\n",
       "    .dataframe thead th {\n",
       "        text-align: right;\n",
       "    }\n",
       "</style>\n",
       "<table border=\"1\" class=\"dataframe\">\n",
       "  <thead>\n",
       "    <tr style=\"text-align: right;\">\n",
       "      <th></th>\n",
       "      <th>State</th>\n",
       "      <th>Year</th>\n",
       "      <th>Population</th>\n",
       "    </tr>\n",
       "  </thead>\n",
       "  <tbody>\n",
       "    <tr>\n",
       "      <th>0</th>\n",
       "      <td>United States</td>\n",
       "      <td>2010</td>\n",
       "      <td>309326085.0000</td>\n",
       "    </tr>\n",
       "    <tr>\n",
       "      <th>1</th>\n",
       "      <td>United States</td>\n",
       "      <td>2011</td>\n",
       "      <td>311580009.0000</td>\n",
       "    </tr>\n",
       "    <tr>\n",
       "      <th>2</th>\n",
       "      <td>United States</td>\n",
       "      <td>2012</td>\n",
       "      <td>313874218.0000</td>\n",
       "    </tr>\n",
       "    <tr>\n",
       "      <th>3</th>\n",
       "      <td>United States</td>\n",
       "      <td>2013</td>\n",
       "      <td>316057727.0000</td>\n",
       "    </tr>\n",
       "    <tr>\n",
       "      <th>4</th>\n",
       "      <td>United States</td>\n",
       "      <td>2014</td>\n",
       "      <td>318386421.0000</td>\n",
       "    </tr>\n",
       "  </tbody>\n",
       "</table>\n",
       "</div>"
      ],
      "text/plain": [
       "           State  Year     Population\n",
       "0  United States  2010 309326085.0000\n",
       "1  United States  2011 311580009.0000\n",
       "2  United States  2012 313874218.0000\n",
       "3  United States  2013 316057727.0000\n",
       "4  United States  2014 318386421.0000"
      ]
     },
     "execution_count": 20,
     "metadata": {},
     "output_type": "execute_result"
    }
   ],
   "source": [
    "# Create a new dataframe that has the population data only for the United States so that we can calculate the yearly likelihood of death in the country\n",
    "df_US = df6.loc[df6['State'] == \"United States\"]\n",
    "df_US = df_US.reset_index(drop = True)\n",
    "df_US.head()"
   ]
  },
  {
   "cell_type": "markdown",
   "id": "236609c2",
   "metadata": {},
   "source": [
    "To calculate the likelihood of death over the years later, We will group the original dataframe by years and get the sum total of deaths in that year to be merged with the population data from the second datset."
   ]
  },
  {
   "cell_type": "code",
   "execution_count": 21,
   "id": "13abfc52",
   "metadata": {},
   "outputs": [],
   "source": [
    "# Group the dataframes by year and calculate the sum total for deaths and population respectively\n",
    "df11 = df_US_AC.groupby(['Year']).agg(Deaths = ('Deaths', 'sum'))\n",
    "df12 = df_US.groupby(['Year']).agg(Population = ('Population', 'sum'))"
   ]
  },
  {
   "cell_type": "code",
   "execution_count": 22,
   "id": "3fea9da7",
   "metadata": {},
   "outputs": [
    {
     "data": {
      "text/html": [
       "<div>\n",
       "<style scoped>\n",
       "    .dataframe tbody tr th:only-of-type {\n",
       "        vertical-align: middle;\n",
       "    }\n",
       "\n",
       "    .dataframe tbody tr th {\n",
       "        vertical-align: top;\n",
       "    }\n",
       "\n",
       "    .dataframe thead th {\n",
       "        text-align: right;\n",
       "    }\n",
       "</style>\n",
       "<table border=\"1\" class=\"dataframe\">\n",
       "  <thead>\n",
       "    <tr style=\"text-align: right;\">\n",
       "      <th></th>\n",
       "      <th>Deaths</th>\n",
       "      <th>Population</th>\n",
       "    </tr>\n",
       "    <tr>\n",
       "      <th>Year</th>\n",
       "      <th></th>\n",
       "      <th></th>\n",
       "    </tr>\n",
       "  </thead>\n",
       "  <tbody>\n",
       "    <tr>\n",
       "      <th>2010</th>\n",
       "      <td>2468435</td>\n",
       "      <td>309326085.0000</td>\n",
       "    </tr>\n",
       "    <tr>\n",
       "      <th>2011</th>\n",
       "      <td>2515458</td>\n",
       "      <td>311580009.0000</td>\n",
       "    </tr>\n",
       "    <tr>\n",
       "      <th>2012</th>\n",
       "      <td>2543279</td>\n",
       "      <td>313874218.0000</td>\n",
       "    </tr>\n",
       "    <tr>\n",
       "      <th>2013</th>\n",
       "      <td>2596993</td>\n",
       "      <td>316057727.0000</td>\n",
       "    </tr>\n",
       "    <tr>\n",
       "      <th>2014</th>\n",
       "      <td>2626418</td>\n",
       "      <td>318386421.0000</td>\n",
       "    </tr>\n",
       "  </tbody>\n",
       "</table>\n",
       "</div>"
      ],
      "text/plain": [
       "       Deaths     Population\n",
       "Year                        \n",
       "2010  2468435 309326085.0000\n",
       "2011  2515458 311580009.0000\n",
       "2012  2543279 313874218.0000\n",
       "2013  2596993 316057727.0000\n",
       "2014  2626418 318386421.0000"
      ]
     },
     "execution_count": 22,
     "metadata": {},
     "output_type": "execute_result"
    }
   ],
   "source": [
    "# merge the two dataframes containing the total deaths and population in the US indexed by the year\n",
    "merged_df = pd.merge(df11, df12,  how='inner', on = ['Year'])\n",
    "merged_df.head()"
   ]
  },
  {
   "cell_type": "markdown",
   "id": "0ad6dc8d",
   "metadata": {},
   "source": [
    "### Are Americans facing increasing, decreasing, or steady likelihood of death?\n",
    "\n",
    "To answer this question, we create a new variable called \"Likelihood\" for the merged dataframe which will calculate the number of deaths per year over the total population of the United States."
   ]
  },
  {
   "cell_type": "code",
   "execution_count": 23,
   "id": "6acc27bd",
   "metadata": {},
   "outputs": [
    {
     "data": {
      "text/html": [
       "<div>\n",
       "<style scoped>\n",
       "    .dataframe tbody tr th:only-of-type {\n",
       "        vertical-align: middle;\n",
       "    }\n",
       "\n",
       "    .dataframe tbody tr th {\n",
       "        vertical-align: top;\n",
       "    }\n",
       "\n",
       "    .dataframe thead th {\n",
       "        text-align: right;\n",
       "    }\n",
       "</style>\n",
       "<table border=\"1\" class=\"dataframe\">\n",
       "  <thead>\n",
       "    <tr style=\"text-align: right;\">\n",
       "      <th></th>\n",
       "      <th>Deaths</th>\n",
       "      <th>Population</th>\n",
       "      <th>Likelihood</th>\n",
       "    </tr>\n",
       "    <tr>\n",
       "      <th>Year</th>\n",
       "      <th></th>\n",
       "      <th></th>\n",
       "      <th></th>\n",
       "    </tr>\n",
       "  </thead>\n",
       "  <tbody>\n",
       "    <tr>\n",
       "      <th>2010</th>\n",
       "      <td>2468435</td>\n",
       "      <td>309326085.0000</td>\n",
       "      <td>0.0080</td>\n",
       "    </tr>\n",
       "    <tr>\n",
       "      <th>2011</th>\n",
       "      <td>2515458</td>\n",
       "      <td>311580009.0000</td>\n",
       "      <td>0.0081</td>\n",
       "    </tr>\n",
       "    <tr>\n",
       "      <th>2012</th>\n",
       "      <td>2543279</td>\n",
       "      <td>313874218.0000</td>\n",
       "      <td>0.0081</td>\n",
       "    </tr>\n",
       "    <tr>\n",
       "      <th>2013</th>\n",
       "      <td>2596993</td>\n",
       "      <td>316057727.0000</td>\n",
       "      <td>0.0082</td>\n",
       "    </tr>\n",
       "    <tr>\n",
       "      <th>2014</th>\n",
       "      <td>2626418</td>\n",
       "      <td>318386421.0000</td>\n",
       "      <td>0.0082</td>\n",
       "    </tr>\n",
       "    <tr>\n",
       "      <th>2015</th>\n",
       "      <td>2712630</td>\n",
       "      <td>320742673.0000</td>\n",
       "      <td>0.0085</td>\n",
       "    </tr>\n",
       "    <tr>\n",
       "      <th>2016</th>\n",
       "      <td>2744248</td>\n",
       "      <td>323071342.0000</td>\n",
       "      <td>0.0085</td>\n",
       "    </tr>\n",
       "  </tbody>\n",
       "</table>\n",
       "</div>"
      ],
      "text/plain": [
       "       Deaths     Population  Likelihood\n",
       "Year                                    \n",
       "2010  2468435 309326085.0000      0.0080\n",
       "2011  2515458 311580009.0000      0.0081\n",
       "2012  2543279 313874218.0000      0.0081\n",
       "2013  2596993 316057727.0000      0.0082\n",
       "2014  2626418 318386421.0000      0.0082\n",
       "2015  2712630 320742673.0000      0.0085\n",
       "2016  2744248 323071342.0000      0.0085"
      ]
     },
     "execution_count": 23,
     "metadata": {},
     "output_type": "execute_result"
    }
   ],
   "source": [
    "merged_df['Likelihood']=merged_df['Deaths']/merged_df['Population']\n",
    "merged_df"
   ]
  },
  {
   "cell_type": "markdown",
   "id": "662f3b96",
   "metadata": {},
   "source": [
    "It seems that the likelihood of death in America is steadily increasing over time.\n",
    "Let's plot the same"
   ]
  },
  {
   "cell_type": "code",
   "execution_count": 24,
   "id": "d89a6aaf",
   "metadata": {},
   "outputs": [
    {
     "data": {
      "text/plain": [
       "<Figure size 432x288 with 0 Axes>"
      ]
     },
     "metadata": {},
     "output_type": "display_data"
    },
    {
     "data": {
      "image/png": "[encoded data removed]",
      "text/plain": [
       "<Figure size 432x288 with 1 Axes>"
      ]
     },
     "metadata": {
      "needs_background": "light"
     },
     "output_type": "display_data"
    }
   ],
   "source": [
    "# Plot a linegraph to show the trend of likelihood of death over the years\n",
    "plt.figure()\n",
    "merged_df.plot(y='Likelihood', use_index=True) \n",
    "plt.title('Recent likelihood of death in the US')\n",
    "plt.show()"
   ]
  },
  {
   "cell_type": "markdown",
   "id": "7598920e",
   "metadata": {},
   "source": [
    "The Graph shows a steady increase in the likelihood of death from 2010 to 2016 (the time for which we have data available from both datasets). We can see that there was a slightly sharper rise in the likelihood of death in the year 2014-2015 but it flattened again from 2015-2016."
   ]
  },
  {
   "cell_type": "markdown",
   "id": "25681630",
   "metadata": {},
   "source": [
    "We address the above question considering the yearly death count, with respect to the annual estimate of the resident population.\n",
    "\n",
    "Based on our analysis, We can see that there there was a steady increase in the likelihood of death year over year. The likelihood of death increased from 0.80% in the year 2010 to 0.85% in the year 2016. Hence, we can say that the available data seems to suggest that Americans are facing an increasing likelihood of death.\n",
    "\n",
    "Our analysis is restricted for the years 2010-2016 due to the limited availability of resident population estimates."
   ]
  },
  {
   "cell_type": "markdown",
   "id": "dd00750e",
   "metadata": {},
   "source": [
    "Additionally, it should be noted that we have used the population data to standardize the likelihood of death so that we can compare the deaths across different states and years without worrying about the variation in the population skewing our outcome. We speculate that 'Age-adjusted death rate' is another variable in the first dataset that was probably standardized using the population data."
   ]
  },
  {
   "cell_type": "markdown",
   "id": "6a90ea0a",
   "metadata": {},
   "source": [
    "Let's manipulate the leading causes of deaths dataframe to enable us to answer the rest of the questions.\n"
   ]
  },
  {
   "cell_type": "code",
   "execution_count": 25,
   "id": "ac9e068e",
   "metadata": {},
   "outputs": [
    {
     "data": {
      "text/html": [
       "<div>\n",
       "<style scoped>\n",
       "    .dataframe tbody tr th:only-of-type {\n",
       "        vertical-align: middle;\n",
       "    }\n",
       "\n",
       "    .dataframe tbody tr th {\n",
       "        vertical-align: top;\n",
       "    }\n",
       "\n",
       "    .dataframe thead th {\n",
       "        text-align: right;\n",
       "    }\n",
       "</style>\n",
       "<table border=\"1\" class=\"dataframe\">\n",
       "  <thead>\n",
       "    <tr style=\"text-align: right;\">\n",
       "      <th></th>\n",
       "      <th>Cause Name</th>\n",
       "      <th>Deaths</th>\n",
       "    </tr>\n",
       "  </thead>\n",
       "  <tbody>\n",
       "    <tr>\n",
       "      <th>0</th>\n",
       "      <td>Heart disease</td>\n",
       "      <td>11575183</td>\n",
       "    </tr>\n",
       "    <tr>\n",
       "      <th>1</th>\n",
       "      <td>Cancer</td>\n",
       "      <td>10244536</td>\n",
       "    </tr>\n",
       "    <tr>\n",
       "      <th>2</th>\n",
       "      <td>Stroke</td>\n",
       "      <td>2580140</td>\n",
       "    </tr>\n",
       "    <tr>\n",
       "      <th>3</th>\n",
       "      <td>CLRD</td>\n",
       "      <td>2434726</td>\n",
       "    </tr>\n",
       "  </tbody>\n",
       "</table>\n",
       "</div>"
      ],
      "text/plain": [
       "      Cause Name    Deaths\n",
       "0  Heart disease  11575183\n",
       "1         Cancer  10244536\n",
       "2         Stroke   2580140\n",
       "3           CLRD   2434726"
      ]
     },
     "execution_count": 25,
     "metadata": {},
     "output_type": "execute_result"
    }
   ],
   "source": [
    "#Create a dataframe just for the US\n",
    "us_data = df1.loc[df1[\"State\"] == \"United States\"]\n",
    "us_data = us_data.reset_index(drop = True)\n",
    "\n",
    "#drop 'All causes' from the us_data dataframe\n",
    "drop_aC =us_data[us_data[\"Cause Name\"].apply(lambda x: x.startswith(\"All causes\"))].index\n",
    "us_data.drop(drop_aC, inplace = True)\n",
    "\n",
    "#Group by 'Cause Name', get the sum total of deaths for the top 4 options\n",
    "us_data = us_data.groupby(\"Cause Name\", as_index = False)[\"Deaths\"].agg(\"sum\").nlargest(4,\"Deaths\")\n",
    "\n",
    "#Sort by deaths in the descending order\n",
    "us_data = us_data.sort_values(\"Deaths\", ascending = False).reset_index(drop = True)\n",
    "us_data"
   ]
  },
  {
   "cell_type": "code",
   "execution_count": 26,
   "id": "1730c0f7",
   "metadata": {},
   "outputs": [
    {
     "data": {
      "image/png": "[encoded data removed]",
      "text/plain": [
       "<Figure size 432x288 with 1 Axes>"
      ]
     },
     "metadata": {
      "needs_background": "light"
     },
     "output_type": "display_data"
    }
   ],
   "source": [
    "# plot the outcome\n",
    "fig, ax = plt.subplots()\n",
    "bars = ax.bar(us_data[\"Cause Name\"], us_data[\"Deaths\"], align='center', color = 'dimgrey')\n",
    "bars[0].set_color('seagreen')\n",
    "ax.set_ylabel('Deaths')\n",
    "ax.set_title('Top Four Causes of Death in the US')\n",
    "ax.spines['top'].set_visible(False)\n",
    "ax.spines['right'].set_visible(False)\n",
    "ax.tick_params(top=False , bottom= True, left=True, right= False, labelleft='on', labelbottom='on')\n",
    "plt.show()"
   ]
  },
  {
   "cell_type": "markdown",
   "id": "b748e29b",
   "metadata": {},
   "source": [
    "### What are the four leading causes of death for Americans?\n",
    "\n",
    "For this question, we have considered the leading causes of death for the years 1999-2016. \n",
    "For 17 years, the United States has seen an aggregate death count of 90m for all causes of death. \n",
    "Heart disease, Cancer, Stroke and Chronic Lower Respiratory Disease (CLRD) top the list as the major four causes of death, aggregating to a total of 23m, 20m, 5m, and 5m deaths respectively. \n",
    "Apart from these, unintentional injuries, Alzheimer’s disease, and Diabetes were other major causes of death."
   ]
  },
  {
   "cell_type": "markdown",
   "id": "1bef28dc",
   "metadata": {},
   "source": [
    "In order to answer the other questions, let's manipulate the dataframe again\n",
    "\n",
    "\n",
    "### Do individual states show the same four leading causes of death?\n",
    "\n",
    "To answer this question, we will start by getting the unique data values for all the states."
   ]
  },
  {
   "cell_type": "code",
   "execution_count": 27,
   "id": "19e0df27",
   "metadata": {},
   "outputs": [
    {
     "data": {
      "text/html": [
       "<div>\n",
       "<style scoped>\n",
       "    .dataframe tbody tr th:only-of-type {\n",
       "        vertical-align: middle;\n",
       "    }\n",
       "\n",
       "    .dataframe tbody tr th {\n",
       "        vertical-align: top;\n",
       "    }\n",
       "\n",
       "    .dataframe thead th {\n",
       "        text-align: right;\n",
       "    }\n",
       "</style>\n",
       "<table border=\"1\" class=\"dataframe\">\n",
       "  <thead>\n",
       "    <tr style=\"text-align: right;\">\n",
       "      <th></th>\n",
       "      <th>Year</th>\n",
       "      <th>Cause Name</th>\n",
       "      <th>State</th>\n",
       "      <th>Deaths</th>\n",
       "    </tr>\n",
       "  </thead>\n",
       "  <tbody>\n",
       "    <tr>\n",
       "      <th>0</th>\n",
       "      <td>2012</td>\n",
       "      <td>Kidney disease</td>\n",
       "      <td>Vermont</td>\n",
       "      <td>21</td>\n",
       "    </tr>\n",
       "    <tr>\n",
       "      <th>1</th>\n",
       "      <td>2016</td>\n",
       "      <td>Kidney disease</td>\n",
       "      <td>Vermont</td>\n",
       "      <td>30</td>\n",
       "    </tr>\n",
       "    <tr>\n",
       "      <th>2</th>\n",
       "      <td>2013</td>\n",
       "      <td>Kidney disease</td>\n",
       "      <td>Vermont</td>\n",
       "      <td>30</td>\n",
       "    </tr>\n",
       "    <tr>\n",
       "      <th>3</th>\n",
       "      <td>2000</td>\n",
       "      <td>Suicide</td>\n",
       "      <td>District of Columbia</td>\n",
       "      <td>23</td>\n",
       "    </tr>\n",
       "    <tr>\n",
       "      <th>4</th>\n",
       "      <td>2014</td>\n",
       "      <td>Kidney disease</td>\n",
       "      <td>Arizona</td>\n",
       "      <td>325</td>\n",
       "    </tr>\n",
       "  </tbody>\n",
       "</table>\n",
       "</div>"
      ],
      "text/plain": [
       "   Year      Cause Name                 State  Deaths\n",
       "0  2012  Kidney disease               Vermont      21\n",
       "1  2016  Kidney disease               Vermont      30\n",
       "2  2013  Kidney disease               Vermont      30\n",
       "3  2000         Suicide  District of Columbia      23\n",
       "4  2014  Kidney disease               Arizona     325"
      ]
     },
     "execution_count": 27,
     "metadata": {},
     "output_type": "execute_result"
    }
   ],
   "source": [
    "#Drop the rows for 'All causes' to avoid duplication and adulteration of data \n",
    "drop_all_causes =df1[df1[\"Cause Name\"].apply(lambda x: x.startswith(\"All causes\"))].index\n",
    "df1.drop(drop_all_causes, inplace = True)\n",
    "\n",
    "# Drop the rows for \"United States\" to get the data just for all the states\n",
    "drop_us = df1[df1[\"State\"].apply(lambda x: x.startswith(\"United States\"))].index\n",
    "df21 = df1.drop(drop_us)\n",
    "df21.head()"
   ]
  },
  {
   "cell_type": "code",
   "execution_count": 28,
   "id": "c4f9ff1b",
   "metadata": {},
   "outputs": [
    {
     "data": {
      "text/html": [
       "<div>\n",
       "<style scoped>\n",
       "    .dataframe tbody tr th:only-of-type {\n",
       "        vertical-align: middle;\n",
       "    }\n",
       "\n",
       "    .dataframe tbody tr th {\n",
       "        vertical-align: top;\n",
       "    }\n",
       "\n",
       "    .dataframe thead th {\n",
       "        text-align: right;\n",
       "    }\n",
       "</style>\n",
       "<table border=\"1\" class=\"dataframe\">\n",
       "  <thead>\n",
       "    <tr style=\"text-align: right;\">\n",
       "      <th></th>\n",
       "      <th>State</th>\n",
       "      <th>Cause Name</th>\n",
       "      <th>Deaths</th>\n",
       "    </tr>\n",
       "  </thead>\n",
       "  <tbody>\n",
       "    <tr>\n",
       "      <th>0</th>\n",
       "      <td>Alabama</td>\n",
       "      <td>Suicide</td>\n",
       "      <td>11241</td>\n",
       "    </tr>\n",
       "    <tr>\n",
       "      <th>1</th>\n",
       "      <td>Alabama</td>\n",
       "      <td>Influenza and pneumonia</td>\n",
       "      <td>18516</td>\n",
       "    </tr>\n",
       "    <tr>\n",
       "      <th>2</th>\n",
       "      <td>Alabama</td>\n",
       "      <td>Kidney disease</td>\n",
       "      <td>18899</td>\n",
       "    </tr>\n",
       "    <tr>\n",
       "      <th>3</th>\n",
       "      <td>Alabama</td>\n",
       "      <td>Diabetes</td>\n",
       "      <td>24143</td>\n",
       "    </tr>\n",
       "    <tr>\n",
       "      <th>4</th>\n",
       "      <td>Alabama</td>\n",
       "      <td>Alzheimer's disease</td>\n",
       "      <td>26637</td>\n",
       "    </tr>\n",
       "  </tbody>\n",
       "</table>\n",
       "</div>"
      ],
      "text/plain": [
       "     State               Cause Name  Deaths\n",
       "0  Alabama                  Suicide   11241\n",
       "1  Alabama  Influenza and pneumonia   18516\n",
       "2  Alabama           Kidney disease   18899\n",
       "3  Alabama                 Diabetes   24143\n",
       "4  Alabama      Alzheimer's disease   26637"
      ]
     },
     "execution_count": 28,
     "metadata": {},
     "output_type": "execute_result"
    }
   ],
   "source": [
    "#Group by State and then 'Cause Name' to get the sum total of deaths by State\n",
    "df31 = df21.groupby([\"State\",\"Cause Name\"], as_index = False)[\"Deaths\"].agg(\"sum\")\n",
    "\n",
    "#Sort the deaths in ascending order to get the States in alphabetical order\n",
    "df41 = df31.sort_values(by = [\"State\",\"Deaths\"], ascending = True, kind = \"heapsort\").reset_index(drop = True)\n",
    "df41.head()"
   ]
  },
  {
   "cell_type": "code",
   "execution_count": 29,
   "id": "f1ab9d64",
   "metadata": {},
   "outputs": [
    {
     "data": {
      "text/html": [
       "<div>\n",
       "<style scoped>\n",
       "    .dataframe tbody tr th:only-of-type {\n",
       "        vertical-align: middle;\n",
       "    }\n",
       "\n",
       "    .dataframe tbody tr th {\n",
       "        vertical-align: top;\n",
       "    }\n",
       "\n",
       "    .dataframe thead th {\n",
       "        text-align: right;\n",
       "    }\n",
       "</style>\n",
       "<table border=\"1\" class=\"dataframe\">\n",
       "  <thead>\n",
       "    <tr style=\"text-align: right;\">\n",
       "      <th></th>\n",
       "      <th>State</th>\n",
       "      <th>Cause Name</th>\n",
       "      <th>Deaths</th>\n",
       "    </tr>\n",
       "  </thead>\n",
       "  <tbody>\n",
       "    <tr>\n",
       "      <th>0</th>\n",
       "      <td>Alabama</td>\n",
       "      <td>CLRD</td>\n",
       "      <td>47778</td>\n",
       "    </tr>\n",
       "    <tr>\n",
       "      <th>1</th>\n",
       "      <td>Alabama</td>\n",
       "      <td>Stroke</td>\n",
       "      <td>51507</td>\n",
       "    </tr>\n",
       "    <tr>\n",
       "      <th>2</th>\n",
       "      <td>Alabama</td>\n",
       "      <td>Cancer</td>\n",
       "      <td>180780</td>\n",
       "    </tr>\n",
       "    <tr>\n",
       "      <th>3</th>\n",
       "      <td>Alabama</td>\n",
       "      <td>Heart disease</td>\n",
       "      <td>227433</td>\n",
       "    </tr>\n",
       "    <tr>\n",
       "      <th>4</th>\n",
       "      <td>Alaska</td>\n",
       "      <td>Stroke</td>\n",
       "      <td>3107</td>\n",
       "    </tr>\n",
       "  </tbody>\n",
       "</table>\n",
       "</div>"
      ],
      "text/plain": [
       "     State     Cause Name  Deaths\n",
       "0  Alabama           CLRD   47778\n",
       "1  Alabama         Stroke   51507\n",
       "2  Alabama         Cancer  180780\n",
       "3  Alabama  Heart disease  227433\n",
       "4   Alaska         Stroke    3107"
      ]
     },
     "execution_count": 29,
     "metadata": {},
     "output_type": "execute_result"
    }
   ],
   "source": [
    "#Concatenate slices of the top 4 causes for each state by taking every 6th-9th Index(Skip 10 rows) and gather them in one dataframe\n",
    "df51 = pd.concat([df41[6::10],df41[7::10],df41[8::10],df41[9::10]], axis = 0)\n",
    "\n",
    "#Sort the deaths in ascending order to get the States in alphabetical order\n",
    "df51 = df51.sort_values(by = [\"State\",\"Deaths\"], ascending = True, kind = \"heapsort\").reset_index(drop= True)\n",
    "df51.head()"
   ]
  },
  {
   "cell_type": "markdown",
   "id": "144b54ea",
   "metadata": {},
   "source": [
    "We see the top 4 leading causes of death per state in ascending order for the output."
   ]
  },
  {
   "cell_type": "code",
   "execution_count": 30,
   "id": "be023025",
   "metadata": {},
   "outputs": [
    {
     "data": {
      "text/plain": [
       "Cause Name\n",
       "Cancer                    51\n",
       "Heart disease             51\n",
       "Stroke                    42\n",
       "CLRD                      39\n",
       "Unintentional injuries    20\n",
       "Alzheimer's disease        1\n",
       "dtype: int64"
      ]
     },
     "execution_count": 30,
     "metadata": {},
     "output_type": "execute_result"
    }
   ],
   "source": [
    "#Get the count of the no. of times each Cause name is in the top four causes for individual regions\n",
    "df51.value_counts(subset = \"Cause Name\")"
   ]
  },
  {
   "cell_type": "markdown",
   "id": "8bb7a3d2",
   "metadata": {},
   "source": [
    "In response to the question mentioned above, we note that while all individual states do not show the same 4 leading causes of death as the US, most states have heart disease, cancer, stroke, CLRD, or unintentional injuries as their top four leading causes of death, with unintentional injuries being on the rise in the recent years. \n",
    "\n",
    "Every state has heart disease and cancer in the top four causes. \n",
    "42 and 39 states had strokes and CLRD in the top four respectively.\n",
    "North Dakota is the only state that has Alzheimer’s disease as one of the top four leading causes.\n",
    "20 states, including New Mexico, South Carolina, and West Virginia had unintentional injuries as one of the top four leading causes of death."
   ]
  },
  {
   "cell_type": "markdown",
   "id": "89ca234d",
   "metadata": {},
   "source": [
    "### Are there year-by-year changes in the four leading causes of death nationwide?\n",
    "\n",
    "We will answer this question with an approach similar to the previous question and get the unique data values per year."
   ]
  },
  {
   "cell_type": "code",
   "execution_count": 31,
   "id": "5d66b05e",
   "metadata": {},
   "outputs": [
    {
     "data": {
      "text/html": [
       "<div>\n",
       "<style scoped>\n",
       "    .dataframe tbody tr th:only-of-type {\n",
       "        vertical-align: middle;\n",
       "    }\n",
       "\n",
       "    .dataframe tbody tr th {\n",
       "        vertical-align: top;\n",
       "    }\n",
       "\n",
       "    .dataframe thead th {\n",
       "        text-align: right;\n",
       "    }\n",
       "</style>\n",
       "<table border=\"1\" class=\"dataframe\">\n",
       "  <thead>\n",
       "    <tr style=\"text-align: right;\">\n",
       "      <th></th>\n",
       "      <th>Year</th>\n",
       "      <th>Cause Name</th>\n",
       "      <th>Deaths</th>\n",
       "    </tr>\n",
       "  </thead>\n",
       "  <tbody>\n",
       "    <tr>\n",
       "      <th>0</th>\n",
       "      <td>1999</td>\n",
       "      <td>Suicide</td>\n",
       "      <td>29199</td>\n",
       "    </tr>\n",
       "    <tr>\n",
       "      <th>1</th>\n",
       "      <td>1999</td>\n",
       "      <td>Kidney disease</td>\n",
       "      <td>35525</td>\n",
       "    </tr>\n",
       "    <tr>\n",
       "      <th>2</th>\n",
       "      <td>1999</td>\n",
       "      <td>Alzheimer's disease</td>\n",
       "      <td>44536</td>\n",
       "    </tr>\n",
       "    <tr>\n",
       "      <th>3</th>\n",
       "      <td>1999</td>\n",
       "      <td>Influenza and pneumonia</td>\n",
       "      <td>63730</td>\n",
       "    </tr>\n",
       "    <tr>\n",
       "      <th>4</th>\n",
       "      <td>1999</td>\n",
       "      <td>Diabetes</td>\n",
       "      <td>68399</td>\n",
       "    </tr>\n",
       "  </tbody>\n",
       "</table>\n",
       "</div>"
      ],
      "text/plain": [
       "   Year               Cause Name  Deaths\n",
       "0  1999                  Suicide   29199\n",
       "1  1999           Kidney disease   35525\n",
       "2  1999      Alzheimer's disease   44536\n",
       "3  1999  Influenza and pneumonia   63730\n",
       "4  1999                 Diabetes   68399"
      ]
     },
     "execution_count": 31,
     "metadata": {},
     "output_type": "execute_result"
    }
   ],
   "source": [
    "#Group by Year and then 'Cause Name' to get the sum total of deaths per year\n",
    "df61 = df21.groupby([\"Year\",\"Cause Name\"], as_index = False)[\"Deaths\"].agg(\"sum\")\n",
    "\n",
    "#Sort the deaths in ascending order to get the years in an ascending order from 1999 to 2016\n",
    "df71 = df61.sort_values(by = [\"Year\",\"Deaths\"], ascending = True, kind = \"heapsort\").reset_index(drop = True)\n",
    "df71.head()"
   ]
  },
  {
   "cell_type": "code",
   "execution_count": 32,
   "id": "7a349526",
   "metadata": {},
   "outputs": [
    {
     "data": {
      "text/html": [
       "<div>\n",
       "<style scoped>\n",
       "    .dataframe tbody tr th:only-of-type {\n",
       "        vertical-align: middle;\n",
       "    }\n",
       "\n",
       "    .dataframe tbody tr th {\n",
       "        vertical-align: top;\n",
       "    }\n",
       "\n",
       "    .dataframe thead th {\n",
       "        text-align: right;\n",
       "    }\n",
       "</style>\n",
       "<table border=\"1\" class=\"dataframe\">\n",
       "  <thead>\n",
       "    <tr style=\"text-align: right;\">\n",
       "      <th></th>\n",
       "      <th>Year</th>\n",
       "      <th>Cause Name</th>\n",
       "      <th>Deaths</th>\n",
       "    </tr>\n",
       "  </thead>\n",
       "  <tbody>\n",
       "    <tr>\n",
       "      <th>0</th>\n",
       "      <td>1999</td>\n",
       "      <td>CLRD</td>\n",
       "      <td>124181</td>\n",
       "    </tr>\n",
       "    <tr>\n",
       "      <th>1</th>\n",
       "      <td>1999</td>\n",
       "      <td>Stroke</td>\n",
       "      <td>167366</td>\n",
       "    </tr>\n",
       "    <tr>\n",
       "      <th>2</th>\n",
       "      <td>1999</td>\n",
       "      <td>Cancer</td>\n",
       "      <td>549838</td>\n",
       "    </tr>\n",
       "    <tr>\n",
       "      <th>3</th>\n",
       "      <td>1999</td>\n",
       "      <td>Heart disease</td>\n",
       "      <td>725192</td>\n",
       "    </tr>\n",
       "    <tr>\n",
       "      <th>4</th>\n",
       "      <td>2000</td>\n",
       "      <td>CLRD</td>\n",
       "      <td>122009</td>\n",
       "    </tr>\n",
       "  </tbody>\n",
       "</table>\n",
       "</div>"
      ],
      "text/plain": [
       "   Year     Cause Name  Deaths\n",
       "0  1999           CLRD  124181\n",
       "1  1999         Stroke  167366\n",
       "2  1999         Cancer  549838\n",
       "3  1999  Heart disease  725192\n",
       "4  2000           CLRD  122009"
      ]
     },
     "execution_count": 32,
     "metadata": {},
     "output_type": "execute_result"
    }
   ],
   "source": [
    "#Concatenate slices of the top 4 causes for each year by taking every 6th-9th Index(Skip 10 rows) and gather them in one dataframe\n",
    "df81 = pd.concat([df71[6::10],df71[7::10],df71[8::10],df71[9::10]], axis = 0)\n",
    "\n",
    "#Sort the deaths in ascending order to get the years in an ascending order from 1999 to 2016\n",
    "df81 = df81.sort_values(by = [\"Year\",\"Deaths\"], ascending = True, kind = \"heapsort\").reset_index(drop= True)\n",
    "df81.head()"
   ]
  },
  {
   "cell_type": "markdown",
   "id": "a66eeba3",
   "metadata": {},
   "source": [
    "We see the top 4 leading causes of death per year in ascending order for the output."
   ]
  },
  {
   "cell_type": "code",
   "execution_count": 33,
   "id": "78d9f486",
   "metadata": {},
   "outputs": [
    {
     "data": {
      "text/plain": [
       "Cause Name\n",
       "CLRD                      18\n",
       "Cancer                    18\n",
       "Heart disease             18\n",
       "Stroke                    14\n",
       "Unintentional injuries     4\n",
       "dtype: int64"
      ]
     },
     "execution_count": 33,
     "metadata": {},
     "output_type": "execute_result"
    }
   ],
   "source": [
    "#Get the count of the no. of times each Cause name is in the top four causes for individual regions\n",
    "df81.value_counts(subset = \"Cause Name\")"
   ]
  },
  {
   "cell_type": "markdown",
   "id": "849dfad7",
   "metadata": {},
   "source": [
    "For the above mentioned question, our analysis revealed that heart disease, cancer, stroke, and CLRD consistently ranked as the top four leading causes of death until the year 2012. \n",
    "\n",
    "Heart disease topped as the leading cause of death every year, followed by cancer, stroke and CLRD respectively.\n",
    "\n",
    "2013 onwards, we see a rise in deaths caused by unintentional injuries, which replaced stroke as one of the top four leading causes of death. "
   ]
  },
  {
   "cell_type": "markdown",
   "id": "d370f261",
   "metadata": {},
   "source": [
    "# Additional Insights:"
   ]
  },
  {
   "cell_type": "markdown",
   "id": "da3dc126",
   "metadata": {},
   "source": [
    "Although the available data can give us some valuable insights, we believe that some additional data could shed light on a few more observations including:\n",
    "\n",
    "1) The year 2007 and 2008 saw a steep rise in the number of suicide cases. Additional data can be collected to find a link between the affects of the housing market crash and the total number of deaths caused by financial hardships.\n",
    "\n",
    "2) From 2009 onward, the trajectory of deaths due to unintentional injuries positively increase at a steeper rate compared to the data from 1999-2008. Another link we could find is between the rise in social media apps influence and the increase in unintentional injuries. It overtakes stroke as a leading cause of death from 2013-2016, which could be due to people(especially youngsters) posing for photos and shooting videos and stunts that lead to accidental deaths. \n",
    "\n",
    "3) North Dakota is the only state in the dataset to have Alzheimer’s disease as a leading cause of death. This can probably be attributed to the higher concentration of the eldery people in the state. Additional data can be used to find a link between the two decisively."
   ]
  }
 ],
 "metadata": {
  "kernelspec": {
   "display_name": "Python 3 (ipykernel)",
   "language": "python",
   "name": "python3"
  },
  "language_info": {
   "codemirror_mode": {
    "name": "ipython",
    "version": 3
   },
   "file_extension": ".py",
   "mimetype": "text/x-python",
   "name": "python",
   "nbconvert_exporter": "python",
   "pygments_lexer": "ipython3",
   "version": "3.9.12"
  }
 },
 "nbformat": 4,
 "nbformat_minor": 5
}
